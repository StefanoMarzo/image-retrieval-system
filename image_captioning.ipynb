{
 "cells": [
  {
   "cell_type": "markdown",
   "metadata": {},
   "source": [
    "### Imports"
   ]
  },
  {
   "cell_type": "code",
   "execution_count": 1,
   "metadata": {},
   "outputs": [],
   "source": [
    "#tf.keras.applications.ResNet152\n",
    "import tensorflow\n",
    "from tensorflow.keras.applications.resnet50 import ResNet50\n",
    "from tensorflow.keras.preprocessing import image\n",
    "from tensorflow.keras.applications.resnet50 import preprocess_input, decode_predictions\n",
    "import numpy as np\n",
    "import time\n",
    "import xml.etree.cElementTree as ET\n",
    "import os"
   ]
  },
  {
   "cell_type": "markdown",
   "metadata": {},
   "source": [
    "### Initialize Classification Model\n",
    "Using pre-trained _ImageNet_ weights it is possible to classify images in 1000 categories"
   ]
  },
  {
   "cell_type": "code",
   "execution_count": 2,
   "metadata": {},
   "outputs": [],
   "source": [
    "model = ResNet50(\n",
    "    include_top=True,\n",
    "    weights=\"imagenet\",\n",
    "    input_tensor=None,\n",
    "    input_shape=None,\n",
    "    pooling=None,\n",
    "    classes=1000,\n",
    "    classifier_activation=\"softmax\",\n",
    ")"
   ]
  },
  {
   "cell_type": "markdown",
   "metadata": {},
   "source": [
    "### Functions to get ResNet predictions and create Captions"
   ]
  },
  {
   "cell_type": "code",
   "execution_count": 3,
   "metadata": {},
   "outputs": [],
   "source": [
    "def get_caption(img_path, limit_result=5):\n",
    "    #img_path = 'simple_images/Aerospace/Aerospace_1.jpeg'\n",
    "    img = image.load_img(img_path, target_size=(224, 224))\n",
    "    x = image.img_to_array(img)\n",
    "    x = np.expand_dims(x, axis=0)\n",
    "    x = preprocess_input(x)\n",
    "\n",
    "    preds = model.predict(x)\n",
    "    # decode the results into a list of tuples (class, description, probability)\n",
    "    # (one such list for each sample in the batch)\n",
    "    labels = decode_predictions(preds, limit_result)[0]\n",
    "    caption = ' '.join([el[1] for el in labels if el[2] > 0])\n",
    "    return caption.replace('_', ' ')"
   ]
  },
  {
   "cell_type": "markdown",
   "metadata": {},
   "source": [
    "### Create XML files"
   ]
  },
  {
   "cell_type": "code",
   "execution_count": 4,
   "metadata": {},
   "outputs": [],
   "source": [
    "def create_XML_file(id, topic, caption, img_dir, doc_folder='./xmldocs'):\n",
    "    root = ET.Element('root')\n",
    "    doc = ET.SubElement(root, 'doc')\n",
    "\n",
    "    #Incremental ID\n",
    "    ET.SubElement(doc, 'DOCID').text = str(id)\n",
    "    #Name of the folder\n",
    "    ET.SubElement(doc, 'HEADLINE').text = topic\n",
    "    #Caption generated\n",
    "    ET.SubElement(doc, 'TEXT').text = caption\n",
    "    #Complete img path\n",
    "    ET.SubElement(doc, 'IMGDIR').text = img_dir\n",
    "\n",
    "    tree = ET.ElementTree(root)\n",
    "    tree.write(doc_folder + '/' + str(id) + '.xml')"
   ]
  },
  {
   "cell_type": "markdown",
   "metadata": {},
   "source": [
    "### Generate XML docs for the entire images collection"
   ]
  },
  {
   "cell_type": "code",
   "execution_count": 5,
   "metadata": {},
   "outputs": [],
   "source": [
    "img_folder = './simple_images'\n",
    "\n",
    "def produce_xml_docs(img_folder=img_folder):\n",
    "    id = 0\n",
    "    folder_list = os.listdir(img_folder)\n",
    "    for folder in folder_list:\n",
    "        for file in os.listdir(img_folder + '/' + folder):\n",
    "            img_dir = img_folder + '/' + folder + '/' + file\n",
    "            caption = get_caption(img_dir)\n",
    "            id += 1\n",
    "            create_XML_file(id, folder, caption, img_dir)\n",
    "    #return image_path_list\n"
   ]
  },
  {
   "cell_type": "code",
   "execution_count": 6,
   "metadata": {},
   "outputs": [
    {
     "name": "stderr",
     "output_type": "stream",
     "text": [
      "C:\\ProgramData\\Anaconda3\\lib\\site-packages\\PIL\\TiffImagePlugin.py:819: UserWarning: Corrupt EXIF data.  Expecting to read 4 bytes but only got 2. \n",
      "  warnings.warn(str(msg))\n"
     ]
    },
    {
     "name": "stdout",
     "output_type": "stream",
     "text": [
      "xml caption documents created in 234.6354s\n"
     ]
    }
   ],
   "source": [
    "start = time.time()\n",
    "produce_xml_docs()\n",
    "end = time.time()\n",
    "\n",
    "print('xml caption documents created in ' + str(round(end-start, 4)) + 's')"
   ]
  }
 ],
 "metadata": {
  "accelerator": "GPU",
  "colab": {
   "collapsed_sections": [],
   "name": "image_captioning.ipynb",
   "provenance": [],
   "toc_visible": true
  },
  "kernelspec": {
   "display_name": "Python 3 (ipykernel)",
   "language": "python",
   "name": "python3"
  },
  "language_info": {
   "codemirror_mode": {
    "name": "ipython",
    "version": 3
   },
   "file_extension": ".py",
   "mimetype": "text/x-python",
   "name": "python",
   "nbconvert_exporter": "python",
   "pygments_lexer": "ipython3",
   "version": "3.7.3"
  }
 },
 "nbformat": 4,
 "nbformat_minor": 1
}
