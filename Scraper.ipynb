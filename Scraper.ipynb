{
 "cells": [
  {
   "cell_type": "markdown",
   "id": "88199538",
   "metadata": {},
   "source": [
    "### Imports"
   ]
  },
  {
   "cell_type": "code",
   "execution_count": 1,
   "id": "e71fdef0",
   "metadata": {},
   "outputs": [],
   "source": [
    "from simple_image_download import simple_image_download as downloader\n",
    "\n",
    "#Instance of scraper\n",
    "scraper = downloader.simple_image_download"
   ]
  },
  {
   "cell_type": "markdown",
   "id": "0db3292e",
   "metadata": {},
   "source": [
    "### Topics reading"
   ]
  },
  {
   "cell_type": "code",
   "execution_count": 2,
   "id": "c8cb75df",
   "metadata": {},
   "outputs": [],
   "source": [
    "#Read topics from file (100 topics)\n",
    "topics = open(\"topics.txt\", \"r\")\n",
    "content_list = topics.readlines()\n",
    "topics.close()\n",
    "\n",
    "#Prepare topics for downloader\n",
    "content_list = [el.strip() for el in content_list]\n",
    "topics_search_str = ','.join(content_list)\n",
    "\n",
    "#contains topic string for downloader\n",
    "#topics_search_str"
   ]
  },
  {
   "cell_type": "markdown",
   "id": "d7097a04",
   "metadata": {},
   "source": [
    "### Scrape\n",
    "current settings scrape 10 picturse for topic, with a total of 1000 pictures"
   ]
  },
  {
   "cell_type": "code",
   "execution_count": 3,
   "id": "18b1dc92",
   "metadata": {},
   "outputs": [
    {
     "name": "stderr",
     "output_type": "stream",
     "text": [
      "[========================================================================] 100%\n"
     ]
    }
   ],
   "source": [
    "scrape_count = 10\n",
    "scraper().download(topics_search_str, scrape_count, extensions={'.jpg', '.jpeg'})"
   ]
  }
 ],
 "metadata": {
  "kernelspec": {
   "display_name": "Python 3 (ipykernel)",
   "language": "python",
   "name": "python3"
  },
  "language_info": {
   "codemirror_mode": {
    "name": "ipython",
    "version": 3
   },
   "file_extension": ".py",
   "mimetype": "text/x-python",
   "name": "python",
   "nbconvert_exporter": "python",
   "pygments_lexer": "ipython3",
   "version": "3.7.3"
  }
 },
 "nbformat": 4,
 "nbformat_minor": 5
}
