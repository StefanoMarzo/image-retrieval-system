{
 "cells": [
  {
   "cell_type": "markdown",
   "id": "335b892e",
   "metadata": {},
   "source": [
    "### Imports"
   ]
  },
  {
   "cell_type": "code",
   "execution_count": 1,
   "id": "9d3d7c25",
   "metadata": {},
   "outputs": [],
   "source": [
    "import requests\n",
    "from bs4 import BeautifulSoup\n",
    "import time\n",
    "import pathlib"
   ]
  },
  {
   "cell_type": "markdown",
   "id": "150e1c50",
   "metadata": {},
   "source": [
    "### Constants"
   ]
  },
  {
   "cell_type": "code",
   "execution_count": 2,
   "id": "c96b7a3a",
   "metadata": {},
   "outputs": [],
   "source": [
    "url = 'https://www.generatormix.com/random-image-generator'\n",
    "attr_src = 'data-src'\n",
    "attr_alt = 'alt'\n",
    "selector = '#output img'\n",
    "save_img_path = 'static/random_images/'"
   ]
  },
  {
   "cell_type": "markdown",
   "id": "52bd867b",
   "metadata": {},
   "source": [
    "### Scraping"
   ]
  },
  {
   "cell_type": "code",
   "execution_count": 3,
   "id": "b454c041",
   "metadata": {},
   "outputs": [],
   "source": [
    "def get_random_image():\n",
    "    soup = BeautifulSoup(requests.get(url).content, \"html.parser\")\n",
    "    try:\n",
    "        img = [(img[attr_src], img[attr_alt]) for img in soup.select(\"#output img\")][0]\n",
    "    except:\n",
    "        return\n",
    "    img_url, alt = img[0], img[1]\n",
    "    alt = alt.replace(',', '')\n",
    "    alt = alt.replace(' ', '-')\n",
    "    alt += pathlib.Path(img_url).suffix\n",
    "    r = requests.get(img_url)\n",
    "    with open(save_img_path + alt, 'wb') as outfile:\n",
    "        outfile.write(r.content)\n",
    "        \n",
    "def get_n_random_images(n = 1000, timeout = 2):\n",
    "    for i in range(n):\n",
    "        get_random_image()\n",
    "        time.sleep(timeout)\n",
    "        if i % (n / (n / 100)) == 0:\n",
    "            print(f'{i} images retrieved')"
   ]
  },
  {
   "cell_type": "markdown",
   "id": "5f5aabf9",
   "metadata": {},
   "source": [
    "### Start Scraping"
   ]
  },
  {
   "cell_type": "code",
   "execution_count": 4,
   "id": "77fe0d45",
   "metadata": {},
   "outputs": [
    {
     "name": "stdout",
     "output_type": "stream",
     "text": [
      "0 images retrieved\n",
      "100 images retrieved\n",
      "200 images retrieved\n",
      "300 images retrieved\n",
      "400 images retrieved\n",
      "500 images retrieved\n",
      "600 images retrieved\n",
      "700 images retrieved\n",
      "800 images retrieved\n",
      "900 images retrieved\n"
     ]
    }
   ],
   "source": [
    "get_img = False #Avoid unintended runs\n",
    "if get_img:\n",
    "    get_n_random_images(n = 1000)"
   ]
  }
 ],
 "metadata": {
  "kernelspec": {
   "display_name": "Python 3 (ipykernel)",
   "language": "python",
   "name": "python3"
  },
  "language_info": {
   "codemirror_mode": {
    "name": "ipython",
    "version": 3
   },
   "file_extension": ".py",
   "mimetype": "text/x-python",
   "name": "python",
   "nbconvert_exporter": "python",
   "pygments_lexer": "ipython3",
   "version": "3.7.3"
  }
 },
 "nbformat": 4,
 "nbformat_minor": 5
}
